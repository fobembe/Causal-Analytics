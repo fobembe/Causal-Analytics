{
 "cells": [
  {
   "cell_type": "markdown",
   "id": "eaf89a99",
   "metadata": {},
   "source": [
    "# Impact of Discount on Sales Revenue"
   ]
  },
  {
   "cell_type": "markdown",
   "id": "b5c8ae71",
   "metadata": {},
   "source": [
    "### Introduction\n",
    "\n",
    "Discount on purchases is one of the strategies used by sellers to boost their sales.  However, in adopting this strategy, there is a need to understand the make-up of the customers such that discounts are given to the right people.  There are those that will purchase the product irrespective of discounts given, in this scenario the utility of applying discounts to such customers is diminished, but there are instances in which certain customers will be motivated to make a purchase if a discount is given, in this situation, the value of discounts is optimized.\n",
    "\n",
    "This project makes use of this [dataset](https://github.com/ifran-rahman/Customer_Data_Analysis) to understand how discount has impacted on sales revenue."
   ]
  },
  {
   "cell_type": "markdown",
   "id": "99b79929",
   "metadata": {},
   "source": [
    "### Import the necessary libraries and dataset"
   ]
  },
  {
   "cell_type": "code",
   "execution_count": 1,
   "id": "1224c43a",
   "metadata": {},
   "outputs": [],
   "source": [
    "import causallib\n",
    "import pandas as pd\n",
    "import numpy as np\n",
    "import matplotlib.pyplot as plt\n",
    "import seaborn as sns\n",
    "import warnings\n",
    "warnings.filterwarnings('ignore')"
   ]
  },
  {
   "cell_type": "code",
   "execution_count": 2,
   "id": "cadd5aa3",
   "metadata": {},
   "outputs": [
    {
     "data": {
      "text/html": [
       "<div>\n",
       "<style scoped>\n",
       "    .dataframe tbody tr th:only-of-type {\n",
       "        vertical-align: middle;\n",
       "    }\n",
       "\n",
       "    .dataframe tbody tr th {\n",
       "        vertical-align: top;\n",
       "    }\n",
       "\n",
       "    .dataframe thead th {\n",
       "        text-align: right;\n",
       "    }\n",
       "</style>\n",
       "<table border=\"1\" class=\"dataframe\">\n",
       "  <thead>\n",
       "    <tr style=\"text-align: right;\">\n",
       "      <th></th>\n",
       "      <th>order_id</th>\n",
       "      <th>order_date</th>\n",
       "      <th>status</th>\n",
       "      <th>item_id</th>\n",
       "      <th>sku</th>\n",
       "      <th>qty_ordered</th>\n",
       "      <th>price</th>\n",
       "      <th>value</th>\n",
       "      <th>discount_amount</th>\n",
       "      <th>total</th>\n",
       "      <th>...</th>\n",
       "      <th>SSN</th>\n",
       "      <th>Phone No.</th>\n",
       "      <th>Place Name</th>\n",
       "      <th>County</th>\n",
       "      <th>City</th>\n",
       "      <th>State</th>\n",
       "      <th>Zip</th>\n",
       "      <th>Region</th>\n",
       "      <th>User Name</th>\n",
       "      <th>Discount_Percent</th>\n",
       "    </tr>\n",
       "  </thead>\n",
       "  <tbody>\n",
       "    <tr>\n",
       "      <th>0</th>\n",
       "      <td>100354678</td>\n",
       "      <td>2020-10-01</td>\n",
       "      <td>received</td>\n",
       "      <td>574772.0</td>\n",
       "      <td>oasis_Oasis-064-36</td>\n",
       "      <td>22.0</td>\n",
       "      <td>89.9</td>\n",
       "      <td>1798.0</td>\n",
       "      <td>0.0</td>\n",
       "      <td>1798.0</td>\n",
       "      <td>...</td>\n",
       "      <td>627-31-5251</td>\n",
       "      <td>405-959-1129</td>\n",
       "      <td>Vinson</td>\n",
       "      <td>Harmon</td>\n",
       "      <td>Vinson</td>\n",
       "      <td>OK</td>\n",
       "      <td>73571</td>\n",
       "      <td>South</td>\n",
       "      <td>jwtitus</td>\n",
       "      <td>0.0</td>\n",
       "    </tr>\n",
       "    <tr>\n",
       "      <th>1</th>\n",
       "      <td>100354678</td>\n",
       "      <td>2020-10-01</td>\n",
       "      <td>received</td>\n",
       "      <td>574774.0</td>\n",
       "      <td>Fantastic_FT-48</td>\n",
       "      <td>12.0</td>\n",
       "      <td>19.0</td>\n",
       "      <td>190.0</td>\n",
       "      <td>0.0</td>\n",
       "      <td>190.0</td>\n",
       "      <td>...</td>\n",
       "      <td>627-31-5251</td>\n",
       "      <td>405-959-1129</td>\n",
       "      <td>Vinson</td>\n",
       "      <td>Harmon</td>\n",
       "      <td>Vinson</td>\n",
       "      <td>OK</td>\n",
       "      <td>73571</td>\n",
       "      <td>South</td>\n",
       "      <td>jwtitus</td>\n",
       "      <td>0.0</td>\n",
       "    </tr>\n",
       "    <tr>\n",
       "      <th>2</th>\n",
       "      <td>100354680</td>\n",
       "      <td>2020-10-01</td>\n",
       "      <td>complete</td>\n",
       "      <td>574777.0</td>\n",
       "      <td>mdeal_DMC-610-8</td>\n",
       "      <td>10.0</td>\n",
       "      <td>149.9</td>\n",
       "      <td>1199.2</td>\n",
       "      <td>0.0</td>\n",
       "      <td>1199.2</td>\n",
       "      <td>...</td>\n",
       "      <td>627-31-5251</td>\n",
       "      <td>405-959-1129</td>\n",
       "      <td>Vinson</td>\n",
       "      <td>Harmon</td>\n",
       "      <td>Vinson</td>\n",
       "      <td>OK</td>\n",
       "      <td>73571</td>\n",
       "      <td>South</td>\n",
       "      <td>jwtitus</td>\n",
       "      <td>0.0</td>\n",
       "    </tr>\n",
       "    <tr>\n",
       "      <th>3</th>\n",
       "      <td>100354680</td>\n",
       "      <td>2020-10-01</td>\n",
       "      <td>complete</td>\n",
       "      <td>574779.0</td>\n",
       "      <td>oasis_Oasis-061-36</td>\n",
       "      <td>10.0</td>\n",
       "      <td>79.9</td>\n",
       "      <td>639.2</td>\n",
       "      <td>0.0</td>\n",
       "      <td>639.2</td>\n",
       "      <td>...</td>\n",
       "      <td>627-31-5251</td>\n",
       "      <td>405-959-1129</td>\n",
       "      <td>Vinson</td>\n",
       "      <td>Harmon</td>\n",
       "      <td>Vinson</td>\n",
       "      <td>OK</td>\n",
       "      <td>73571</td>\n",
       "      <td>South</td>\n",
       "      <td>jwtitus</td>\n",
       "      <td>0.0</td>\n",
       "    </tr>\n",
       "    <tr>\n",
       "      <th>4</th>\n",
       "      <td>100367357</td>\n",
       "      <td>2020-11-13</td>\n",
       "      <td>received</td>\n",
       "      <td>595185.0</td>\n",
       "      <td>MEFNAR59C38B6CA08CD</td>\n",
       "      <td>3.0</td>\n",
       "      <td>99.9</td>\n",
       "      <td>99.9</td>\n",
       "      <td>0.0</td>\n",
       "      <td>99.9</td>\n",
       "      <td>...</td>\n",
       "      <td>627-31-5251</td>\n",
       "      <td>405-959-1129</td>\n",
       "      <td>Vinson</td>\n",
       "      <td>Harmon</td>\n",
       "      <td>Vinson</td>\n",
       "      <td>OK</td>\n",
       "      <td>73571</td>\n",
       "      <td>South</td>\n",
       "      <td>jwtitus</td>\n",
       "      <td>0.0</td>\n",
       "    </tr>\n",
       "  </tbody>\n",
       "</table>\n",
       "<p>5 rows × 36 columns</p>\n",
       "</div>"
      ],
      "text/plain": [
       "    order_id  order_date    status   item_id                  sku  \\\n",
       "0  100354678  2020-10-01  received  574772.0   oasis_Oasis-064-36   \n",
       "1  100354678  2020-10-01  received  574774.0      Fantastic_FT-48   \n",
       "2  100354680  2020-10-01  complete  574777.0      mdeal_DMC-610-8   \n",
       "3  100354680  2020-10-01  complete  574779.0   oasis_Oasis-061-36   \n",
       "4  100367357  2020-11-13  received  595185.0  MEFNAR59C38B6CA08CD   \n",
       "\n",
       "   qty_ordered  price   value  discount_amount   total  ...          SSN  \\\n",
       "0         22.0   89.9  1798.0              0.0  1798.0  ...  627-31-5251   \n",
       "1         12.0   19.0   190.0              0.0   190.0  ...  627-31-5251   \n",
       "2         10.0  149.9  1199.2              0.0  1199.2  ...  627-31-5251   \n",
       "3         10.0   79.9   639.2              0.0   639.2  ...  627-31-5251   \n",
       "4          3.0   99.9    99.9              0.0    99.9  ...  627-31-5251   \n",
       "\n",
       "     Phone No.  Place Name  County    City State    Zip Region User Name  \\\n",
       "0  405-959-1129     Vinson  Harmon  Vinson    OK  73571  South   jwtitus   \n",
       "1  405-959-1129     Vinson  Harmon  Vinson    OK  73571  South   jwtitus   \n",
       "2  405-959-1129     Vinson  Harmon  Vinson    OK  73571  South   jwtitus   \n",
       "3  405-959-1129     Vinson  Harmon  Vinson    OK  73571  South   jwtitus   \n",
       "4  405-959-1129     Vinson  Harmon  Vinson    OK  73571  South   jwtitus   \n",
       "\n",
       "  Discount_Percent  \n",
       "0              0.0  \n",
       "1              0.0  \n",
       "2              0.0  \n",
       "3              0.0  \n",
       "4              0.0  \n",
       "\n",
       "[5 rows x 36 columns]"
      ]
     },
     "execution_count": 2,
     "metadata": {},
     "output_type": "execute_result"
    }
   ],
   "source": [
    "data = pd.read_csv('sales_dataset.csv')\n",
    "data.head()"
   ]
  },
  {
   "cell_type": "markdown",
   "id": "5563cd6a",
   "metadata": {},
   "source": [
    "### Data Exploration"
   ]
  },
  {
   "cell_type": "code",
   "execution_count": 3,
   "id": "f700a460",
   "metadata": {},
   "outputs": [
    {
     "data": {
      "text/plain": [
       "(286392, 36)"
      ]
     },
     "execution_count": 3,
     "metadata": {},
     "output_type": "execute_result"
    }
   ],
   "source": [
    "data.shape"
   ]
  },
  {
   "cell_type": "code",
   "execution_count": 4,
   "id": "6afd4e10",
   "metadata": {},
   "outputs": [
    {
     "name": "stdout",
     "output_type": "stream",
     "text": [
      "<class 'pandas.core.frame.DataFrame'>\n",
      "RangeIndex: 286392 entries, 0 to 286391\n",
      "Data columns (total 36 columns):\n",
      " #   Column            Non-Null Count   Dtype  \n",
      "---  ------            --------------   -----  \n",
      " 0   order_id          286392 non-null  object \n",
      " 1   order_date        286392 non-null  object \n",
      " 2   status            286392 non-null  object \n",
      " 3   item_id           286392 non-null  float64\n",
      " 4   sku               286392 non-null  object \n",
      " 5   qty_ordered       286392 non-null  float64\n",
      " 6   price             286392 non-null  float64\n",
      " 7   value             286392 non-null  float64\n",
      " 8   discount_amount   286392 non-null  float64\n",
      " 9   total             286392 non-null  float64\n",
      " 10  category          286392 non-null  object \n",
      " 11  payment_method    286392 non-null  object \n",
      " 12  bi_st             286392 non-null  object \n",
      " 13  cust_id           286392 non-null  float64\n",
      " 14  year              286392 non-null  int64  \n",
      " 15  month             286392 non-null  object \n",
      " 16  ref_num           286392 non-null  int64  \n",
      " 17  Name Prefix       286392 non-null  object \n",
      " 18  First Name        286392 non-null  object \n",
      " 19  Middle Initial    286392 non-null  object \n",
      " 20  Last Name         286392 non-null  object \n",
      " 21  Gender            286392 non-null  object \n",
      " 22  age               286392 non-null  float64\n",
      " 23  full_name         286392 non-null  object \n",
      " 24  E Mail            286392 non-null  object \n",
      " 25  Customer Since    286392 non-null  object \n",
      " 26  SSN               286392 non-null  object \n",
      " 27  Phone No.         286392 non-null  object \n",
      " 28  Place Name        286392 non-null  object \n",
      " 29  County            286392 non-null  object \n",
      " 30  City              286392 non-null  object \n",
      " 31  State             286392 non-null  object \n",
      " 32  Zip               286392 non-null  int64  \n",
      " 33  Region            286392 non-null  object \n",
      " 34  User Name         286392 non-null  object \n",
      " 35  Discount_Percent  286392 non-null  float64\n",
      "dtypes: float64(9), int64(3), object(24)\n",
      "memory usage: 78.7+ MB\n"
     ]
    }
   ],
   "source": [
    "data.info()"
   ]
  },
  {
   "cell_type": "code",
   "execution_count": 5,
   "id": "522a63b4",
   "metadata": {},
   "outputs": [
    {
     "data": {
      "text/plain": [
       "0.000000     183086\n",
       "20.000000     10510\n",
       "10.000000      8459\n",
       "15.000000      4985\n",
       "9.000000       2074\n",
       "              ...  \n",
       "17.016538         1\n",
       "17.128112         1\n",
       "3.671476          1\n",
       "12.241249         1\n",
       "62.727273         1\n",
       "Name: Discount_Percent, Length: 17133, dtype: int64"
      ]
     },
     "execution_count": 5,
     "metadata": {},
     "output_type": "execute_result"
    }
   ],
   "source": [
    "data['Discount_Percent'].value_counts()"
   ]
  },
  {
   "cell_type": "code",
   "execution_count": 6,
   "id": "165773be",
   "metadata": {},
   "outputs": [
    {
     "data": {
      "text/plain": [
       "South        103482\n",
       "Midwest       81299\n",
       "West          51080\n",
       "Northeast     50531\n",
       "Name: Region, dtype: int64"
      ]
     },
     "execution_count": 6,
     "metadata": {},
     "output_type": "execute_result"
    }
   ],
   "source": [
    "data['Region'].value_counts()"
   ]
  },
  {
   "cell_type": "code",
   "execution_count": 7,
   "id": "59417485",
   "metadata": {},
   "outputs": [
    {
     "data": {
      "text/plain": [
       "Mobiles & Tablets     61761\n",
       "Men's Fashion         40713\n",
       "Appliances            33034\n",
       "Women's Fashion       28334\n",
       "Others                26108\n",
       "Beauty & Grooming     17899\n",
       "Entertainment         17352\n",
       "Superstore            15024\n",
       "Home & Living         13990\n",
       "Health & Sports        8421\n",
       "Computing              8110\n",
       "Soghaat                7250\n",
       "Kids & Baby            6492\n",
       "School & Education     1090\n",
       "Books                   814\n",
       "Name: category, dtype: int64"
      ]
     },
     "execution_count": 7,
     "metadata": {},
     "output_type": "execute_result"
    }
   ],
   "source": [
    "data['category'].value_counts()"
   ]
  },
  {
   "cell_type": "code",
   "execution_count": 8,
   "id": "902e4747",
   "metadata": {},
   "outputs": [
    {
     "data": {
      "text/plain": [
       "Mr.      103506\n",
       "Ms.       60314\n",
       "Mrs.      47247\n",
       "Hon.      30439\n",
       "Drs.      16180\n",
       "Prof.     14939\n",
       "Dr.       13767\n",
       "Name: Name Prefix, dtype: int64"
      ]
     },
     "execution_count": 8,
     "metadata": {},
     "output_type": "execute_result"
    }
   ],
   "source": [
    "data['Name Prefix'].value_counts()"
   ]
  },
  {
   "cell_type": "markdown",
   "id": "adaa146f",
   "metadata": {},
   "source": [
    "### Data Engineering, Cleaning and Selection\n",
    "\n",
    "The exploration conducted above shows the following:\n",
    "\n",
    "* There are 15 unique items of sales in the dataset, we shall restrict our analysis to 1 which is women's clothing\n",
    "* Given that weather is one of the factors that determine quantity demanded, we shall create a column for season out of month column\n",
    "* We shall categorize 'Name Prefix' column into two, those with Drs/Prof/Dr as a group and those without as a group to reflect ocuupational category\n",
    "* Select relevant variables which are price, qty_ordered, value, total, name prefix, gender, customer since, region, discount percent\n",
    "* We'll stick with region instead of state for location of buyers"
   ]
  },
  {
   "cell_type": "markdown",
   "id": "c5183131",
   "metadata": {},
   "source": [
    "### Features Needed"
   ]
  },
  {
   "cell_type": "code",
   "execution_count": 9,
   "id": "ef53efa7",
   "metadata": {},
   "outputs": [
    {
     "data": {
      "text/plain": [
       "Index(['order_id', 'order_date', 'status', 'item_id', 'sku', 'qty_ordered',\n",
       "       'price', 'value', 'discount_amount', 'total', 'category',\n",
       "       'payment_method', 'bi_st', 'cust_id', 'year', 'month', 'ref_num',\n",
       "       'Name Prefix', 'First Name', 'Middle Initial', 'Last Name', 'Gender',\n",
       "       'age', 'full_name', 'E Mail', 'Customer Since', 'SSN', 'Phone No. ',\n",
       "       'Place Name', 'County', 'City', 'State', 'Zip', 'Region', 'User Name',\n",
       "       'Discount_Percent'],\n",
       "      dtype='object')"
      ]
     },
     "execution_count": 9,
     "metadata": {},
     "output_type": "execute_result"
    }
   ],
   "source": [
    "data.columns"
   ]
  },
  {
   "cell_type": "code",
   "execution_count": 10,
   "id": "9ca1ae31",
   "metadata": {},
   "outputs": [],
   "source": [
    "features = ['price', 'value', 'total', 'category',\n",
    "'payment_method','Name Prefix', 'age','Region','Discount_Percent']"
   ]
  },
  {
   "cell_type": "code",
   "execution_count": 11,
   "id": "87c6ab42",
   "metadata": {},
   "outputs": [],
   "source": [
    "data_f = data[features]"
   ]
  },
  {
   "cell_type": "code",
   "execution_count": 12,
   "id": "1cc0d206",
   "metadata": {},
   "outputs": [
    {
     "data": {
      "text/html": [
       "<div>\n",
       "<style scoped>\n",
       "    .dataframe tbody tr th:only-of-type {\n",
       "        vertical-align: middle;\n",
       "    }\n",
       "\n",
       "    .dataframe tbody tr th {\n",
       "        vertical-align: top;\n",
       "    }\n",
       "\n",
       "    .dataframe thead th {\n",
       "        text-align: right;\n",
       "    }\n",
       "</style>\n",
       "<table border=\"1\" class=\"dataframe\">\n",
       "  <thead>\n",
       "    <tr style=\"text-align: right;\">\n",
       "      <th></th>\n",
       "      <th>price</th>\n",
       "      <th>value</th>\n",
       "      <th>total</th>\n",
       "      <th>category</th>\n",
       "      <th>payment_method</th>\n",
       "      <th>Name Prefix</th>\n",
       "      <th>age</th>\n",
       "      <th>Region</th>\n",
       "      <th>Discount_Percent</th>\n",
       "    </tr>\n",
       "  </thead>\n",
       "  <tbody>\n",
       "    <tr>\n",
       "      <th>0</th>\n",
       "      <td>89.9</td>\n",
       "      <td>1798.0</td>\n",
       "      <td>1798.0</td>\n",
       "      <td>Men's Fashion</td>\n",
       "      <td>cod</td>\n",
       "      <td>Drs.</td>\n",
       "      <td>43.0</td>\n",
       "      <td>South</td>\n",
       "      <td>0.0</td>\n",
       "    </tr>\n",
       "    <tr>\n",
       "      <th>1</th>\n",
       "      <td>19.0</td>\n",
       "      <td>190.0</td>\n",
       "      <td>190.0</td>\n",
       "      <td>Men's Fashion</td>\n",
       "      <td>cod</td>\n",
       "      <td>Drs.</td>\n",
       "      <td>43.0</td>\n",
       "      <td>South</td>\n",
       "      <td>0.0</td>\n",
       "    </tr>\n",
       "    <tr>\n",
       "      <th>2</th>\n",
       "      <td>149.9</td>\n",
       "      <td>1199.2</td>\n",
       "      <td>1199.2</td>\n",
       "      <td>Men's Fashion</td>\n",
       "      <td>cod</td>\n",
       "      <td>Drs.</td>\n",
       "      <td>43.0</td>\n",
       "      <td>South</td>\n",
       "      <td>0.0</td>\n",
       "    </tr>\n",
       "    <tr>\n",
       "      <th>3</th>\n",
       "      <td>79.9</td>\n",
       "      <td>639.2</td>\n",
       "      <td>639.2</td>\n",
       "      <td>Men's Fashion</td>\n",
       "      <td>cod</td>\n",
       "      <td>Drs.</td>\n",
       "      <td>43.0</td>\n",
       "      <td>South</td>\n",
       "      <td>0.0</td>\n",
       "    </tr>\n",
       "    <tr>\n",
       "      <th>4</th>\n",
       "      <td>99.9</td>\n",
       "      <td>99.9</td>\n",
       "      <td>99.9</td>\n",
       "      <td>Men's Fashion</td>\n",
       "      <td>cod</td>\n",
       "      <td>Drs.</td>\n",
       "      <td>43.0</td>\n",
       "      <td>South</td>\n",
       "      <td>0.0</td>\n",
       "    </tr>\n",
       "  </tbody>\n",
       "</table>\n",
       "</div>"
      ],
      "text/plain": [
       "   price   value   total       category payment_method Name Prefix   age  \\\n",
       "0   89.9  1798.0  1798.0  Men's Fashion            cod        Drs.  43.0   \n",
       "1   19.0   190.0   190.0  Men's Fashion            cod        Drs.  43.0   \n",
       "2  149.9  1199.2  1199.2  Men's Fashion            cod        Drs.  43.0   \n",
       "3   79.9   639.2   639.2  Men's Fashion            cod        Drs.  43.0   \n",
       "4   99.9    99.9    99.9  Men's Fashion            cod        Drs.  43.0   \n",
       "\n",
       "  Region  Discount_Percent  \n",
       "0  South               0.0  \n",
       "1  South               0.0  \n",
       "2  South               0.0  \n",
       "3  South               0.0  \n",
       "4  South               0.0  "
      ]
     },
     "execution_count": 12,
     "metadata": {},
     "output_type": "execute_result"
    }
   ],
   "source": [
    "data_f.head()"
   ]
  },
  {
   "cell_type": "code",
   "execution_count": 13,
   "id": "1fad3caa",
   "metadata": {},
   "outputs": [
    {
     "data": {
      "text/html": [
       "<div>\n",
       "<style scoped>\n",
       "    .dataframe tbody tr th:only-of-type {\n",
       "        vertical-align: middle;\n",
       "    }\n",
       "\n",
       "    .dataframe tbody tr th {\n",
       "        vertical-align: top;\n",
       "    }\n",
       "\n",
       "    .dataframe thead th {\n",
       "        text-align: right;\n",
       "    }\n",
       "</style>\n",
       "<table border=\"1\" class=\"dataframe\">\n",
       "  <thead>\n",
       "    <tr style=\"text-align: right;\">\n",
       "      <th></th>\n",
       "      <th>price</th>\n",
       "      <th>value</th>\n",
       "      <th>total</th>\n",
       "      <th>category</th>\n",
       "      <th>payment_method</th>\n",
       "      <th>Name Prefix</th>\n",
       "      <th>age</th>\n",
       "      <th>Region</th>\n",
       "      <th>Discount_Percent</th>\n",
       "    </tr>\n",
       "  </thead>\n",
       "  <tbody>\n",
       "    <tr>\n",
       "      <th>0</th>\n",
       "      <td>89.9</td>\n",
       "      <td>1798.0</td>\n",
       "      <td>1798.0</td>\n",
       "      <td>Men's Fashion</td>\n",
       "      <td>cod</td>\n",
       "      <td>Drs.</td>\n",
       "      <td>43.0</td>\n",
       "      <td>South</td>\n",
       "      <td>0.0</td>\n",
       "    </tr>\n",
       "    <tr>\n",
       "      <th>1</th>\n",
       "      <td>19.0</td>\n",
       "      <td>190.0</td>\n",
       "      <td>190.0</td>\n",
       "      <td>Men's Fashion</td>\n",
       "      <td>cod</td>\n",
       "      <td>Drs.</td>\n",
       "      <td>43.0</td>\n",
       "      <td>South</td>\n",
       "      <td>0.0</td>\n",
       "    </tr>\n",
       "    <tr>\n",
       "      <th>2</th>\n",
       "      <td>149.9</td>\n",
       "      <td>1199.2</td>\n",
       "      <td>1199.2</td>\n",
       "      <td>Men's Fashion</td>\n",
       "      <td>cod</td>\n",
       "      <td>Drs.</td>\n",
       "      <td>43.0</td>\n",
       "      <td>South</td>\n",
       "      <td>0.0</td>\n",
       "    </tr>\n",
       "    <tr>\n",
       "      <th>3</th>\n",
       "      <td>79.9</td>\n",
       "      <td>639.2</td>\n",
       "      <td>639.2</td>\n",
       "      <td>Men's Fashion</td>\n",
       "      <td>cod</td>\n",
       "      <td>Drs.</td>\n",
       "      <td>43.0</td>\n",
       "      <td>South</td>\n",
       "      <td>0.0</td>\n",
       "    </tr>\n",
       "    <tr>\n",
       "      <th>4</th>\n",
       "      <td>99.9</td>\n",
       "      <td>99.9</td>\n",
       "      <td>99.9</td>\n",
       "      <td>Men's Fashion</td>\n",
       "      <td>cod</td>\n",
       "      <td>Drs.</td>\n",
       "      <td>43.0</td>\n",
       "      <td>South</td>\n",
       "      <td>0.0</td>\n",
       "    </tr>\n",
       "  </tbody>\n",
       "</table>\n",
       "</div>"
      ],
      "text/plain": [
       "   price   value   total       category payment_method Name Prefix   age  \\\n",
       "0   89.9  1798.0  1798.0  Men's Fashion            cod        Drs.  43.0   \n",
       "1   19.0   190.0   190.0  Men's Fashion            cod        Drs.  43.0   \n",
       "2  149.9  1199.2  1199.2  Men's Fashion            cod        Drs.  43.0   \n",
       "3   79.9   639.2   639.2  Men's Fashion            cod        Drs.  43.0   \n",
       "4   99.9    99.9    99.9  Men's Fashion            cod        Drs.  43.0   \n",
       "\n",
       "  Region  Discount_Percent  \n",
       "0  South               0.0  \n",
       "1  South               0.0  \n",
       "2  South               0.0  \n",
       "3  South               0.0  \n",
       "4  South               0.0  "
      ]
     },
     "execution_count": 13,
     "metadata": {},
     "output_type": "execute_result"
    }
   ],
   "source": [
    "data_f.head()"
   ]
  },
  {
   "cell_type": "code",
   "execution_count": 14,
   "id": "17959981",
   "metadata": {},
   "outputs": [],
   "source": [
    "# Add customer since to the data\n",
    "\n",
    "data_f['customer_since'] = data['Customer Since']"
   ]
  },
  {
   "cell_type": "code",
   "execution_count": 15,
   "id": "7525967c",
   "metadata": {},
   "outputs": [
    {
     "data": {
      "text/html": [
       "<div>\n",
       "<style scoped>\n",
       "    .dataframe tbody tr th:only-of-type {\n",
       "        vertical-align: middle;\n",
       "    }\n",
       "\n",
       "    .dataframe tbody tr th {\n",
       "        vertical-align: top;\n",
       "    }\n",
       "\n",
       "    .dataframe thead th {\n",
       "        text-align: right;\n",
       "    }\n",
       "</style>\n",
       "<table border=\"1\" class=\"dataframe\">\n",
       "  <thead>\n",
       "    <tr style=\"text-align: right;\">\n",
       "      <th></th>\n",
       "      <th>price</th>\n",
       "      <th>value</th>\n",
       "      <th>total</th>\n",
       "      <th>category</th>\n",
       "      <th>payment_method</th>\n",
       "      <th>Name Prefix</th>\n",
       "      <th>age</th>\n",
       "      <th>Region</th>\n",
       "      <th>Discount_Percent</th>\n",
       "      <th>customer_since</th>\n",
       "    </tr>\n",
       "  </thead>\n",
       "  <tbody>\n",
       "    <tr>\n",
       "      <th>0</th>\n",
       "      <td>89.9</td>\n",
       "      <td>1798.0</td>\n",
       "      <td>1798.0</td>\n",
       "      <td>Men's Fashion</td>\n",
       "      <td>cod</td>\n",
       "      <td>Drs.</td>\n",
       "      <td>43.0</td>\n",
       "      <td>South</td>\n",
       "      <td>0.0</td>\n",
       "      <td>8/22/2006</td>\n",
       "    </tr>\n",
       "    <tr>\n",
       "      <th>1</th>\n",
       "      <td>19.0</td>\n",
       "      <td>190.0</td>\n",
       "      <td>190.0</td>\n",
       "      <td>Men's Fashion</td>\n",
       "      <td>cod</td>\n",
       "      <td>Drs.</td>\n",
       "      <td>43.0</td>\n",
       "      <td>South</td>\n",
       "      <td>0.0</td>\n",
       "      <td>8/22/2006</td>\n",
       "    </tr>\n",
       "    <tr>\n",
       "      <th>2</th>\n",
       "      <td>149.9</td>\n",
       "      <td>1199.2</td>\n",
       "      <td>1199.2</td>\n",
       "      <td>Men's Fashion</td>\n",
       "      <td>cod</td>\n",
       "      <td>Drs.</td>\n",
       "      <td>43.0</td>\n",
       "      <td>South</td>\n",
       "      <td>0.0</td>\n",
       "      <td>8/22/2006</td>\n",
       "    </tr>\n",
       "    <tr>\n",
       "      <th>3</th>\n",
       "      <td>79.9</td>\n",
       "      <td>639.2</td>\n",
       "      <td>639.2</td>\n",
       "      <td>Men's Fashion</td>\n",
       "      <td>cod</td>\n",
       "      <td>Drs.</td>\n",
       "      <td>43.0</td>\n",
       "      <td>South</td>\n",
       "      <td>0.0</td>\n",
       "      <td>8/22/2006</td>\n",
       "    </tr>\n",
       "    <tr>\n",
       "      <th>4</th>\n",
       "      <td>99.9</td>\n",
       "      <td>99.9</td>\n",
       "      <td>99.9</td>\n",
       "      <td>Men's Fashion</td>\n",
       "      <td>cod</td>\n",
       "      <td>Drs.</td>\n",
       "      <td>43.0</td>\n",
       "      <td>South</td>\n",
       "      <td>0.0</td>\n",
       "      <td>8/22/2006</td>\n",
       "    </tr>\n",
       "  </tbody>\n",
       "</table>\n",
       "</div>"
      ],
      "text/plain": [
       "   price   value   total       category payment_method Name Prefix   age  \\\n",
       "0   89.9  1798.0  1798.0  Men's Fashion            cod        Drs.  43.0   \n",
       "1   19.0   190.0   190.0  Men's Fashion            cod        Drs.  43.0   \n",
       "2  149.9  1199.2  1199.2  Men's Fashion            cod        Drs.  43.0   \n",
       "3   79.9   639.2   639.2  Men's Fashion            cod        Drs.  43.0   \n",
       "4   99.9    99.9    99.9  Men's Fashion            cod        Drs.  43.0   \n",
       "\n",
       "  Region  Discount_Percent customer_since  \n",
       "0  South               0.0      8/22/2006  \n",
       "1  South               0.0      8/22/2006  \n",
       "2  South               0.0      8/22/2006  \n",
       "3  South               0.0      8/22/2006  \n",
       "4  South               0.0      8/22/2006  "
      ]
     },
     "execution_count": 15,
     "metadata": {},
     "output_type": "execute_result"
    }
   ],
   "source": [
    "data_f.head()"
   ]
  },
  {
   "cell_type": "code",
   "execution_count": 16,
   "id": "76397bfb",
   "metadata": {},
   "outputs": [],
   "source": [
    "# Include order date to calculate years since buyers has been a customer\n",
    "\n",
    "data_f['order_date'] = data['order_date']"
   ]
  },
  {
   "cell_type": "code",
   "execution_count": 17,
   "id": "2422d5a1",
   "metadata": {},
   "outputs": [],
   "source": [
    "# Calculate how long customer has been with the company\n",
    "\n",
    "import datetime as dt"
   ]
  },
  {
   "cell_type": "code",
   "execution_count": 18,
   "id": "f176f7f4",
   "metadata": {},
   "outputs": [],
   "source": [
    "# convert the dates from string to dates\n",
    "\n",
    "data_f['order_date'] = pd.to_datetime(data_f['order_date'])\n",
    "data_f['customer_since'] = pd.to_datetime(data_f['customer_since'])"
   ]
  },
  {
   "cell_type": "code",
   "execution_count": 19,
   "id": "cf7c81e4",
   "metadata": {},
   "outputs": [],
   "source": [
    "data_f['diff'] = data_f['order_date'] - data_f['customer_since']"
   ]
  },
  {
   "cell_type": "code",
   "execution_count": 20,
   "id": "08fc52c1",
   "metadata": {},
   "outputs": [
    {
     "data": {
      "text/html": [
       "<div>\n",
       "<style scoped>\n",
       "    .dataframe tbody tr th:only-of-type {\n",
       "        vertical-align: middle;\n",
       "    }\n",
       "\n",
       "    .dataframe tbody tr th {\n",
       "        vertical-align: top;\n",
       "    }\n",
       "\n",
       "    .dataframe thead th {\n",
       "        text-align: right;\n",
       "    }\n",
       "</style>\n",
       "<table border=\"1\" class=\"dataframe\">\n",
       "  <thead>\n",
       "    <tr style=\"text-align: right;\">\n",
       "      <th></th>\n",
       "      <th>price</th>\n",
       "      <th>value</th>\n",
       "      <th>total</th>\n",
       "      <th>category</th>\n",
       "      <th>payment_method</th>\n",
       "      <th>Name Prefix</th>\n",
       "      <th>age</th>\n",
       "      <th>Region</th>\n",
       "      <th>Discount_Percent</th>\n",
       "      <th>customer_since</th>\n",
       "      <th>order_date</th>\n",
       "      <th>diff</th>\n",
       "    </tr>\n",
       "  </thead>\n",
       "  <tbody>\n",
       "    <tr>\n",
       "      <th>0</th>\n",
       "      <td>89.9</td>\n",
       "      <td>1798.0</td>\n",
       "      <td>1798.0</td>\n",
       "      <td>Men's Fashion</td>\n",
       "      <td>cod</td>\n",
       "      <td>Drs.</td>\n",
       "      <td>43.0</td>\n",
       "      <td>South</td>\n",
       "      <td>0.0</td>\n",
       "      <td>2006-08-22</td>\n",
       "      <td>2020-10-01</td>\n",
       "      <td>5154 days</td>\n",
       "    </tr>\n",
       "    <tr>\n",
       "      <th>1</th>\n",
       "      <td>19.0</td>\n",
       "      <td>190.0</td>\n",
       "      <td>190.0</td>\n",
       "      <td>Men's Fashion</td>\n",
       "      <td>cod</td>\n",
       "      <td>Drs.</td>\n",
       "      <td>43.0</td>\n",
       "      <td>South</td>\n",
       "      <td>0.0</td>\n",
       "      <td>2006-08-22</td>\n",
       "      <td>2020-10-01</td>\n",
       "      <td>5154 days</td>\n",
       "    </tr>\n",
       "    <tr>\n",
       "      <th>2</th>\n",
       "      <td>149.9</td>\n",
       "      <td>1199.2</td>\n",
       "      <td>1199.2</td>\n",
       "      <td>Men's Fashion</td>\n",
       "      <td>cod</td>\n",
       "      <td>Drs.</td>\n",
       "      <td>43.0</td>\n",
       "      <td>South</td>\n",
       "      <td>0.0</td>\n",
       "      <td>2006-08-22</td>\n",
       "      <td>2020-10-01</td>\n",
       "      <td>5154 days</td>\n",
       "    </tr>\n",
       "    <tr>\n",
       "      <th>3</th>\n",
       "      <td>79.9</td>\n",
       "      <td>639.2</td>\n",
       "      <td>639.2</td>\n",
       "      <td>Men's Fashion</td>\n",
       "      <td>cod</td>\n",
       "      <td>Drs.</td>\n",
       "      <td>43.0</td>\n",
       "      <td>South</td>\n",
       "      <td>0.0</td>\n",
       "      <td>2006-08-22</td>\n",
       "      <td>2020-10-01</td>\n",
       "      <td>5154 days</td>\n",
       "    </tr>\n",
       "    <tr>\n",
       "      <th>4</th>\n",
       "      <td>99.9</td>\n",
       "      <td>99.9</td>\n",
       "      <td>99.9</td>\n",
       "      <td>Men's Fashion</td>\n",
       "      <td>cod</td>\n",
       "      <td>Drs.</td>\n",
       "      <td>43.0</td>\n",
       "      <td>South</td>\n",
       "      <td>0.0</td>\n",
       "      <td>2006-08-22</td>\n",
       "      <td>2020-11-13</td>\n",
       "      <td>5197 days</td>\n",
       "    </tr>\n",
       "  </tbody>\n",
       "</table>\n",
       "</div>"
      ],
      "text/plain": [
       "   price   value   total       category payment_method Name Prefix   age  \\\n",
       "0   89.9  1798.0  1798.0  Men's Fashion            cod        Drs.  43.0   \n",
       "1   19.0   190.0   190.0  Men's Fashion            cod        Drs.  43.0   \n",
       "2  149.9  1199.2  1199.2  Men's Fashion            cod        Drs.  43.0   \n",
       "3   79.9   639.2   639.2  Men's Fashion            cod        Drs.  43.0   \n",
       "4   99.9    99.9    99.9  Men's Fashion            cod        Drs.  43.0   \n",
       "\n",
       "  Region  Discount_Percent customer_since order_date      diff  \n",
       "0  South               0.0     2006-08-22 2020-10-01 5154 days  \n",
       "1  South               0.0     2006-08-22 2020-10-01 5154 days  \n",
       "2  South               0.0     2006-08-22 2020-10-01 5154 days  \n",
       "3  South               0.0     2006-08-22 2020-10-01 5154 days  \n",
       "4  South               0.0     2006-08-22 2020-11-13 5197 days  "
      ]
     },
     "execution_count": 20,
     "metadata": {},
     "output_type": "execute_result"
    }
   ],
   "source": [
    "data_f.head()"
   ]
  },
  {
   "cell_type": "code",
   "execution_count": 21,
   "id": "180dfb8f",
   "metadata": {},
   "outputs": [],
   "source": [
    "data_f['diff'] = data_f['diff'].dt.days"
   ]
  },
  {
   "cell_type": "code",
   "execution_count": 22,
   "id": "7d878977",
   "metadata": {},
   "outputs": [
    {
     "data": {
      "text/plain": [
       "count    286392.000000\n",
       "mean       4903.050633\n",
       "std        3152.496378\n",
       "min        1162.000000\n",
       "25%        2259.000000\n",
       "50%        4015.000000\n",
       "75%        6768.000000\n",
       "max       15538.000000\n",
       "Name: diff, dtype: float64"
      ]
     },
     "execution_count": 22,
     "metadata": {},
     "output_type": "execute_result"
    }
   ],
   "source": [
    "data_f['diff'].describe()"
   ]
  },
  {
   "cell_type": "markdown",
   "id": "8c83beba",
   "metadata": {},
   "source": [
    "### Create customer duration and month column for seasons"
   ]
  },
  {
   "cell_type": "code",
   "execution_count": 23,
   "id": "a549c45f",
   "metadata": {},
   "outputs": [],
   "source": [
    "# Create a month column and delete days columns\n",
    "\n",
    "data_f['customer_duration'] = round(data_f['diff']/365,0)"
   ]
  },
  {
   "cell_type": "code",
   "execution_count": 24,
   "id": "cf0b430c",
   "metadata": {},
   "outputs": [
    {
     "data": {
      "text/plain": [
       "0    14.0\n",
       "1    14.0\n",
       "2    14.0\n",
       "3    14.0\n",
       "4    14.0\n",
       "Name: customer_duration, dtype: float64"
      ]
     },
     "execution_count": 24,
     "metadata": {},
     "output_type": "execute_result"
    }
   ],
   "source": [
    "data_f['customer_duration'].head()"
   ]
  },
  {
   "cell_type": "code",
   "execution_count": 25,
   "id": "5cf22e60",
   "metadata": {},
   "outputs": [],
   "source": [
    "data_f['Month'] = data_f.order_date.dt.month_name(locale=\"English\")"
   ]
  },
  {
   "cell_type": "code",
   "execution_count": 26,
   "id": "48b0be75",
   "metadata": {},
   "outputs": [
    {
     "data": {
      "text/html": [
       "<div>\n",
       "<style scoped>\n",
       "    .dataframe tbody tr th:only-of-type {\n",
       "        vertical-align: middle;\n",
       "    }\n",
       "\n",
       "    .dataframe tbody tr th {\n",
       "        vertical-align: top;\n",
       "    }\n",
       "\n",
       "    .dataframe thead th {\n",
       "        text-align: right;\n",
       "    }\n",
       "</style>\n",
       "<table border=\"1\" class=\"dataframe\">\n",
       "  <thead>\n",
       "    <tr style=\"text-align: right;\">\n",
       "      <th></th>\n",
       "      <th>price</th>\n",
       "      <th>value</th>\n",
       "      <th>total</th>\n",
       "      <th>category</th>\n",
       "      <th>payment_method</th>\n",
       "      <th>Name Prefix</th>\n",
       "      <th>age</th>\n",
       "      <th>Region</th>\n",
       "      <th>Discount_Percent</th>\n",
       "      <th>customer_since</th>\n",
       "      <th>order_date</th>\n",
       "      <th>diff</th>\n",
       "      <th>customer_duration</th>\n",
       "      <th>Month</th>\n",
       "    </tr>\n",
       "  </thead>\n",
       "  <tbody>\n",
       "    <tr>\n",
       "      <th>0</th>\n",
       "      <td>89.9</td>\n",
       "      <td>1798.0</td>\n",
       "      <td>1798.0</td>\n",
       "      <td>Men's Fashion</td>\n",
       "      <td>cod</td>\n",
       "      <td>Drs.</td>\n",
       "      <td>43.0</td>\n",
       "      <td>South</td>\n",
       "      <td>0.0</td>\n",
       "      <td>2006-08-22</td>\n",
       "      <td>2020-10-01</td>\n",
       "      <td>5154</td>\n",
       "      <td>14.0</td>\n",
       "      <td>October</td>\n",
       "    </tr>\n",
       "    <tr>\n",
       "      <th>1</th>\n",
       "      <td>19.0</td>\n",
       "      <td>190.0</td>\n",
       "      <td>190.0</td>\n",
       "      <td>Men's Fashion</td>\n",
       "      <td>cod</td>\n",
       "      <td>Drs.</td>\n",
       "      <td>43.0</td>\n",
       "      <td>South</td>\n",
       "      <td>0.0</td>\n",
       "      <td>2006-08-22</td>\n",
       "      <td>2020-10-01</td>\n",
       "      <td>5154</td>\n",
       "      <td>14.0</td>\n",
       "      <td>October</td>\n",
       "    </tr>\n",
       "    <tr>\n",
       "      <th>2</th>\n",
       "      <td>149.9</td>\n",
       "      <td>1199.2</td>\n",
       "      <td>1199.2</td>\n",
       "      <td>Men's Fashion</td>\n",
       "      <td>cod</td>\n",
       "      <td>Drs.</td>\n",
       "      <td>43.0</td>\n",
       "      <td>South</td>\n",
       "      <td>0.0</td>\n",
       "      <td>2006-08-22</td>\n",
       "      <td>2020-10-01</td>\n",
       "      <td>5154</td>\n",
       "      <td>14.0</td>\n",
       "      <td>October</td>\n",
       "    </tr>\n",
       "    <tr>\n",
       "      <th>3</th>\n",
       "      <td>79.9</td>\n",
       "      <td>639.2</td>\n",
       "      <td>639.2</td>\n",
       "      <td>Men's Fashion</td>\n",
       "      <td>cod</td>\n",
       "      <td>Drs.</td>\n",
       "      <td>43.0</td>\n",
       "      <td>South</td>\n",
       "      <td>0.0</td>\n",
       "      <td>2006-08-22</td>\n",
       "      <td>2020-10-01</td>\n",
       "      <td>5154</td>\n",
       "      <td>14.0</td>\n",
       "      <td>October</td>\n",
       "    </tr>\n",
       "    <tr>\n",
       "      <th>4</th>\n",
       "      <td>99.9</td>\n",
       "      <td>99.9</td>\n",
       "      <td>99.9</td>\n",
       "      <td>Men's Fashion</td>\n",
       "      <td>cod</td>\n",
       "      <td>Drs.</td>\n",
       "      <td>43.0</td>\n",
       "      <td>South</td>\n",
       "      <td>0.0</td>\n",
       "      <td>2006-08-22</td>\n",
       "      <td>2020-11-13</td>\n",
       "      <td>5197</td>\n",
       "      <td>14.0</td>\n",
       "      <td>November</td>\n",
       "    </tr>\n",
       "  </tbody>\n",
       "</table>\n",
       "</div>"
      ],
      "text/plain": [
       "   price   value   total       category payment_method Name Prefix   age  \\\n",
       "0   89.9  1798.0  1798.0  Men's Fashion            cod        Drs.  43.0   \n",
       "1   19.0   190.0   190.0  Men's Fashion            cod        Drs.  43.0   \n",
       "2  149.9  1199.2  1199.2  Men's Fashion            cod        Drs.  43.0   \n",
       "3   79.9   639.2   639.2  Men's Fashion            cod        Drs.  43.0   \n",
       "4   99.9    99.9    99.9  Men's Fashion            cod        Drs.  43.0   \n",
       "\n",
       "  Region  Discount_Percent customer_since order_date  diff  customer_duration  \\\n",
       "0  South               0.0     2006-08-22 2020-10-01  5154               14.0   \n",
       "1  South               0.0     2006-08-22 2020-10-01  5154               14.0   \n",
       "2  South               0.0     2006-08-22 2020-10-01  5154               14.0   \n",
       "3  South               0.0     2006-08-22 2020-10-01  5154               14.0   \n",
       "4  South               0.0     2006-08-22 2020-11-13  5197               14.0   \n",
       "\n",
       "      Month  \n",
       "0   October  \n",
       "1   October  \n",
       "2   October  \n",
       "3   October  \n",
       "4  November  "
      ]
     },
     "execution_count": 26,
     "metadata": {},
     "output_type": "execute_result"
    }
   ],
   "source": [
    "data_f.head()"
   ]
  },
  {
   "cell_type": "code",
   "execution_count": 27,
   "id": "8f45156a",
   "metadata": {},
   "outputs": [],
   "source": [
    "# Create 4 seasons\n",
    "\n",
    "def season(x):\n",
    "    if x in ['March','April','May']:\n",
    "        return 'Spring'\n",
    "    elif x in ['June','July','August']:\n",
    "        return 'Summer'\n",
    "    elif x in ['September','October','November']:\n",
    "        return 'Fall'\n",
    "    else:\n",
    "        return 'Winter'"
   ]
  },
  {
   "cell_type": "code",
   "execution_count": 28,
   "id": "b91199d3",
   "metadata": {},
   "outputs": [],
   "source": [
    "data_f['season'] = data_f['Month'].apply(season)"
   ]
  },
  {
   "cell_type": "code",
   "execution_count": 29,
   "id": "d9496141",
   "metadata": {},
   "outputs": [
    {
     "data": {
      "text/plain": [
       "Winter    109881\n",
       "Spring     83805\n",
       "Summer     53572\n",
       "Fall       39134\n",
       "Name: season, dtype: int64"
      ]
     },
     "execution_count": 29,
     "metadata": {},
     "output_type": "execute_result"
    }
   ],
   "source": [
    "data_f['season'].value_counts()"
   ]
  },
  {
   "cell_type": "code",
   "execution_count": 30,
   "id": "26467b5d",
   "metadata": {},
   "outputs": [],
   "source": [
    "# create 2 categories of professions from name_prefix\n",
    "\n",
    "def status(x):\n",
    "    if x in ['Drs.','Dr.','Prof.']:\n",
    "        return 'Higher_Status'\n",
    "    else:\n",
    "        return 'Lower_Status'"
   ]
  },
  {
   "cell_type": "code",
   "execution_count": 31,
   "id": "fe3b62f9",
   "metadata": {},
   "outputs": [],
   "source": [
    "data_f['status'] = data_f['Name Prefix'].apply(status)"
   ]
  },
  {
   "cell_type": "markdown",
   "id": "01f0afe0",
   "metadata": {},
   "source": [
    "### Select the relevant features"
   ]
  },
  {
   "cell_type": "code",
   "execution_count": 32,
   "id": "6f152979",
   "metadata": {},
   "outputs": [
    {
     "data": {
      "text/plain": [
       "Index(['price', 'value', 'total', 'category', 'payment_method', 'Name Prefix',\n",
       "       'age', 'Region', 'Discount_Percent', 'customer_since', 'order_date',\n",
       "       'diff', 'customer_duration', 'Month', 'season', 'status'],\n",
       "      dtype='object')"
      ]
     },
     "execution_count": 32,
     "metadata": {},
     "output_type": "execute_result"
    }
   ],
   "source": [
    "data_f.columns"
   ]
  },
  {
   "cell_type": "code",
   "execution_count": 33,
   "id": "d9e0a4d6",
   "metadata": {},
   "outputs": [],
   "source": [
    "relfeatures = ['price','total', 'category','age', 'Region','Discount_Percent', \n",
    "               'customer_duration','season','status']"
   ]
  },
  {
   "cell_type": "code",
   "execution_count": 34,
   "id": "ede39d64",
   "metadata": {},
   "outputs": [],
   "source": [
    "df = data_f[relfeatures]"
   ]
  },
  {
   "cell_type": "code",
   "execution_count": 35,
   "id": "abb4e491",
   "metadata": {},
   "outputs": [
    {
     "data": {
      "text/plain": [
       "(286392, 9)"
      ]
     },
     "execution_count": 35,
     "metadata": {},
     "output_type": "execute_result"
    }
   ],
   "source": [
    "df.shape"
   ]
  },
  {
   "cell_type": "code",
   "execution_count": 36,
   "id": "02e570de",
   "metadata": {},
   "outputs": [],
   "source": [
    "# Select dataframe for women's Fashion\n",
    "\n",
    "df = df[df['category']==\"Women's Fashion\"]"
   ]
  },
  {
   "cell_type": "code",
   "execution_count": 37,
   "id": "6ec6fa3d",
   "metadata": {},
   "outputs": [
    {
     "data": {
      "text/plain": [
       "(28334, 9)"
      ]
     },
     "execution_count": 37,
     "metadata": {},
     "output_type": "execute_result"
    }
   ],
   "source": [
    "df.shape"
   ]
  },
  {
   "cell_type": "code",
   "execution_count": 38,
   "id": "c200d123",
   "metadata": {},
   "outputs": [
    {
     "data": {
      "text/plain": [
       "0.000000     22025\n",
       "20.000000     1439\n",
       "10.000000      694\n",
       "15.000000      517\n",
       "5.000000       182\n",
       "             ...  \n",
       "15.666614        1\n",
       "15.666614        1\n",
       "15.666615        1\n",
       "30.401338        1\n",
       "31.321818        1\n",
       "Name: Discount_Percent, Length: 2020, dtype: int64"
      ]
     },
     "execution_count": 38,
     "metadata": {},
     "output_type": "execute_result"
    }
   ],
   "source": [
    "df['Discount_Percent'].value_counts()"
   ]
  },
  {
   "cell_type": "markdown",
   "id": "d799085f",
   "metadata": {},
   "source": [
    "#### Create Control and Treatment Population"
   ]
  },
  {
   "cell_type": "code",
   "execution_count": 39,
   "id": "5cdef663",
   "metadata": {},
   "outputs": [],
   "source": [
    "# Drop category column\n",
    "\n",
    "df = df.drop('category',axis=1)"
   ]
  },
  {
   "cell_type": "code",
   "execution_count": 40,
   "id": "380b9d45",
   "metadata": {},
   "outputs": [],
   "source": [
    "control_pop = df[df['Discount_Percent']==0.00]\n",
    "Treatment_pop = df[df['Discount_Percent']>0.00]"
   ]
  },
  {
   "cell_type": "code",
   "execution_count": 41,
   "id": "d89a32ec",
   "metadata": {},
   "outputs": [
    {
     "data": {
      "text/plain": [
       "(22025, 8)"
      ]
     },
     "execution_count": 41,
     "metadata": {},
     "output_type": "execute_result"
    }
   ],
   "source": [
    "control_pop.shape"
   ]
  },
  {
   "cell_type": "code",
   "execution_count": 42,
   "id": "20052fcf",
   "metadata": {},
   "outputs": [
    {
     "data": {
      "text/plain": [
       "(6309, 8)"
      ]
     },
     "execution_count": 42,
     "metadata": {},
     "output_type": "execute_result"
    }
   ],
   "source": [
    "Treatment_pop.shape"
   ]
  },
  {
   "cell_type": "code",
   "execution_count": 43,
   "id": "2d9a7c5d",
   "metadata": {},
   "outputs": [],
   "source": [
    "control_pop['treatment'] = 0"
   ]
  },
  {
   "cell_type": "code",
   "execution_count": 44,
   "id": "9ebb0882",
   "metadata": {},
   "outputs": [],
   "source": [
    "Treatment_pop['treatment']=1"
   ]
  },
  {
   "cell_type": "code",
   "execution_count": 45,
   "id": "310541ec",
   "metadata": {},
   "outputs": [
    {
     "data": {
      "text/html": [
       "<div>\n",
       "<style scoped>\n",
       "    .dataframe tbody tr th:only-of-type {\n",
       "        vertical-align: middle;\n",
       "    }\n",
       "\n",
       "    .dataframe tbody tr th {\n",
       "        vertical-align: top;\n",
       "    }\n",
       "\n",
       "    .dataframe thead th {\n",
       "        text-align: right;\n",
       "    }\n",
       "</style>\n",
       "<table border=\"1\" class=\"dataframe\">\n",
       "  <thead>\n",
       "    <tr style=\"text-align: right;\">\n",
       "      <th></th>\n",
       "      <th>price</th>\n",
       "      <th>total</th>\n",
       "      <th>age</th>\n",
       "      <th>Region</th>\n",
       "      <th>Discount_Percent</th>\n",
       "      <th>customer_duration</th>\n",
       "      <th>season</th>\n",
       "      <th>status</th>\n",
       "      <th>treatment</th>\n",
       "    </tr>\n",
       "  </thead>\n",
       "  <tbody>\n",
       "    <tr>\n",
       "      <th>29</th>\n",
       "      <td>140.0</td>\n",
       "      <td>140.0</td>\n",
       "      <td>65.0</td>\n",
       "      <td>Midwest</td>\n",
       "      <td>0.0</td>\n",
       "      <td>10.0</td>\n",
       "      <td>Fall</td>\n",
       "      <td>Lower_Status</td>\n",
       "      <td>0</td>\n",
       "    </tr>\n",
       "    <tr>\n",
       "      <th>72</th>\n",
       "      <td>379.8</td>\n",
       "      <td>379.8</td>\n",
       "      <td>71.0</td>\n",
       "      <td>Midwest</td>\n",
       "      <td>0.0</td>\n",
       "      <td>4.0</td>\n",
       "      <td>Winter</td>\n",
       "      <td>Lower_Status</td>\n",
       "      <td>0</td>\n",
       "    </tr>\n",
       "    <tr>\n",
       "      <th>158</th>\n",
       "      <td>175.0</td>\n",
       "      <td>175.0</td>\n",
       "      <td>71.0</td>\n",
       "      <td>South</td>\n",
       "      <td>0.0</td>\n",
       "      <td>35.0</td>\n",
       "      <td>Fall</td>\n",
       "      <td>Lower_Status</td>\n",
       "      <td>0</td>\n",
       "    </tr>\n",
       "    <tr>\n",
       "      <th>165</th>\n",
       "      <td>119.9</td>\n",
       "      <td>119.9</td>\n",
       "      <td>64.0</td>\n",
       "      <td>South</td>\n",
       "      <td>0.0</td>\n",
       "      <td>15.0</td>\n",
       "      <td>Winter</td>\n",
       "      <td>Lower_Status</td>\n",
       "      <td>0</td>\n",
       "    </tr>\n",
       "    <tr>\n",
       "      <th>205</th>\n",
       "      <td>121.5</td>\n",
       "      <td>121.5</td>\n",
       "      <td>75.0</td>\n",
       "      <td>South</td>\n",
       "      <td>0.0</td>\n",
       "      <td>18.0</td>\n",
       "      <td>Fall</td>\n",
       "      <td>Lower_Status</td>\n",
       "      <td>0</td>\n",
       "    </tr>\n",
       "  </tbody>\n",
       "</table>\n",
       "</div>"
      ],
      "text/plain": [
       "     price  total   age   Region  Discount_Percent  customer_duration  season  \\\n",
       "29   140.0  140.0  65.0  Midwest               0.0               10.0    Fall   \n",
       "72   379.8  379.8  71.0  Midwest               0.0                4.0  Winter   \n",
       "158  175.0  175.0  71.0    South               0.0               35.0    Fall   \n",
       "165  119.9  119.9  64.0    South               0.0               15.0  Winter   \n",
       "205  121.5  121.5  75.0    South               0.0               18.0    Fall   \n",
       "\n",
       "           status  treatment  \n",
       "29   Lower_Status          0  \n",
       "72   Lower_Status          0  \n",
       "158  Lower_Status          0  \n",
       "165  Lower_Status          0  \n",
       "205  Lower_Status          0  "
      ]
     },
     "execution_count": 45,
     "metadata": {},
     "output_type": "execute_result"
    }
   ],
   "source": [
    "control_pop.head()"
   ]
  },
  {
   "cell_type": "code",
   "execution_count": 46,
   "id": "c1823c0c",
   "metadata": {},
   "outputs": [
    {
     "data": {
      "text/html": [
       "<div>\n",
       "<style scoped>\n",
       "    .dataframe tbody tr th:only-of-type {\n",
       "        vertical-align: middle;\n",
       "    }\n",
       "\n",
       "    .dataframe tbody tr th {\n",
       "        vertical-align: top;\n",
       "    }\n",
       "\n",
       "    .dataframe thead th {\n",
       "        text-align: right;\n",
       "    }\n",
       "</style>\n",
       "<table border=\"1\" class=\"dataframe\">\n",
       "  <thead>\n",
       "    <tr style=\"text-align: right;\">\n",
       "      <th></th>\n",
       "      <th>price</th>\n",
       "      <th>total</th>\n",
       "      <th>age</th>\n",
       "      <th>Region</th>\n",
       "      <th>Discount_Percent</th>\n",
       "      <th>customer_duration</th>\n",
       "      <th>season</th>\n",
       "      <th>status</th>\n",
       "      <th>treatment</th>\n",
       "    </tr>\n",
       "  </thead>\n",
       "  <tbody>\n",
       "    <tr>\n",
       "      <th>166</th>\n",
       "      <td>140.0</td>\n",
       "      <td>126.0</td>\n",
       "      <td>64.0</td>\n",
       "      <td>South</td>\n",
       "      <td>10.0</td>\n",
       "      <td>15.0</td>\n",
       "      <td>Winter</td>\n",
       "      <td>Lower_Status</td>\n",
       "      <td>1</td>\n",
       "    </tr>\n",
       "    <tr>\n",
       "      <th>167</th>\n",
       "      <td>125.0</td>\n",
       "      <td>112.5</td>\n",
       "      <td>64.0</td>\n",
       "      <td>South</td>\n",
       "      <td>10.0</td>\n",
       "      <td>15.0</td>\n",
       "      <td>Winter</td>\n",
       "      <td>Lower_Status</td>\n",
       "      <td>1</td>\n",
       "    </tr>\n",
       "    <tr>\n",
       "      <th>168</th>\n",
       "      <td>125.0</td>\n",
       "      <td>112.5</td>\n",
       "      <td>64.0</td>\n",
       "      <td>South</td>\n",
       "      <td>10.0</td>\n",
       "      <td>15.0</td>\n",
       "      <td>Winter</td>\n",
       "      <td>Lower_Status</td>\n",
       "      <td>1</td>\n",
       "    </tr>\n",
       "    <tr>\n",
       "      <th>169</th>\n",
       "      <td>140.0</td>\n",
       "      <td>126.0</td>\n",
       "      <td>64.0</td>\n",
       "      <td>South</td>\n",
       "      <td>10.0</td>\n",
       "      <td>15.0</td>\n",
       "      <td>Winter</td>\n",
       "      <td>Lower_Status</td>\n",
       "      <td>1</td>\n",
       "    </tr>\n",
       "    <tr>\n",
       "      <th>170</th>\n",
       "      <td>140.0</td>\n",
       "      <td>126.0</td>\n",
       "      <td>64.0</td>\n",
       "      <td>South</td>\n",
       "      <td>10.0</td>\n",
       "      <td>15.0</td>\n",
       "      <td>Winter</td>\n",
       "      <td>Lower_Status</td>\n",
       "      <td>1</td>\n",
       "    </tr>\n",
       "  </tbody>\n",
       "</table>\n",
       "</div>"
      ],
      "text/plain": [
       "     price  total   age Region  Discount_Percent  customer_duration  season  \\\n",
       "166  140.0  126.0  64.0  South              10.0               15.0  Winter   \n",
       "167  125.0  112.5  64.0  South              10.0               15.0  Winter   \n",
       "168  125.0  112.5  64.0  South              10.0               15.0  Winter   \n",
       "169  140.0  126.0  64.0  South              10.0               15.0  Winter   \n",
       "170  140.0  126.0  64.0  South              10.0               15.0  Winter   \n",
       "\n",
       "           status  treatment  \n",
       "166  Lower_Status          1  \n",
       "167  Lower_Status          1  \n",
       "168  Lower_Status          1  \n",
       "169  Lower_Status          1  \n",
       "170  Lower_Status          1  "
      ]
     },
     "execution_count": 46,
     "metadata": {},
     "output_type": "execute_result"
    }
   ],
   "source": [
    "Treatment_pop.head()"
   ]
  },
  {
   "cell_type": "code",
   "execution_count": 47,
   "id": "c9a18e46",
   "metadata": {},
   "outputs": [],
   "source": [
    "# Remove Discount_Percent from both groups\n",
    "\n",
    "control_pop = control_pop.drop('Discount_Percent',axis=1)\n",
    "Treatment_pop = Treatment_pop.drop('Discount_Percent',axis=1)"
   ]
  },
  {
   "cell_type": "code",
   "execution_count": 48,
   "id": "ce5a8615",
   "metadata": {},
   "outputs": [],
   "source": [
    "# Rename total as Sales, and customer_duration as duration in both groups\n",
    "\n",
    "new_names = {'total':'outcome','customer_duration':'duration'}\n",
    "\n",
    "control_pop.rename(columns=new_names,inplace=True)\n",
    "Treatment_pop.rename(columns=new_names,inplace=True)"
   ]
  },
  {
   "cell_type": "markdown",
   "id": "0e806e5f",
   "metadata": {},
   "source": [
    "### Data Sampling to select treatment and control samples\n",
    "\n",
    "For our sampling, we shall use power analysis where we want the effect size to be 0.2 (small effect), alpha = 0.05 and Power = 0.8 (High)"
   ]
  },
  {
   "cell_type": "code",
   "execution_count": 49,
   "id": "39254c1c",
   "metadata": {},
   "outputs": [],
   "source": [
    "from statsmodels.stats.power import TTestIndPower"
   ]
  },
  {
   "cell_type": "code",
   "execution_count": 50,
   "id": "5fd5d2a9",
   "metadata": {},
   "outputs": [
    {
     "name": "stdout",
     "output_type": "stream",
     "text": [
      "The sample size needed for each group is 393\n"
     ]
    }
   ],
   "source": [
    "power_analysis = TTestIndPower()\n",
    "sample_size = power_analysis.solve_power(effect_size=0.2,alpha=0.05,power=0.8,alternative='two-sided')\n",
    "print('The sample size needed for each group is',round(sample_size))"
   ]
  },
  {
   "cell_type": "markdown",
   "id": "03071a8d",
   "metadata": {},
   "source": [
    "Since we have enough data to play around with, we shall select 600 from each group"
   ]
  },
  {
   "cell_type": "code",
   "execution_count": 51,
   "id": "29672f1a",
   "metadata": {},
   "outputs": [],
   "source": [
    "control_group = control_pop.sample(n=600,random_state=42)\n",
    "treatment_group = Treatment_pop.sample(n=600,random_state=42)"
   ]
  },
  {
   "cell_type": "code",
   "execution_count": 52,
   "id": "a353e9ee",
   "metadata": {},
   "outputs": [],
   "source": [
    "# combine the datasets\n",
    "\n",
    "df_data = pd.concat([control_group,treatment_group],axis=0)"
   ]
  },
  {
   "cell_type": "code",
   "execution_count": 53,
   "id": "67980b31",
   "metadata": {},
   "outputs": [
    {
     "data": {
      "text/plain": [
       "(1200, 8)"
      ]
     },
     "execution_count": 53,
     "metadata": {},
     "output_type": "execute_result"
    }
   ],
   "source": [
    "df_data.shape"
   ]
  },
  {
   "cell_type": "code",
   "execution_count": 54,
   "id": "575cd30d",
   "metadata": {},
   "outputs": [
    {
     "data": {
      "text/html": [
       "<div>\n",
       "<style scoped>\n",
       "    .dataframe tbody tr th:only-of-type {\n",
       "        vertical-align: middle;\n",
       "    }\n",
       "\n",
       "    .dataframe tbody tr th {\n",
       "        vertical-align: top;\n",
       "    }\n",
       "\n",
       "    .dataframe thead th {\n",
       "        text-align: right;\n",
       "    }\n",
       "</style>\n",
       "<table border=\"1\" class=\"dataframe\">\n",
       "  <thead>\n",
       "    <tr style=\"text-align: right;\">\n",
       "      <th></th>\n",
       "      <th>price</th>\n",
       "      <th>outcome</th>\n",
       "      <th>age</th>\n",
       "      <th>Region</th>\n",
       "      <th>duration</th>\n",
       "      <th>season</th>\n",
       "      <th>status</th>\n",
       "      <th>treatment</th>\n",
       "    </tr>\n",
       "  </thead>\n",
       "  <tbody>\n",
       "    <tr>\n",
       "      <th>211297</th>\n",
       "      <td>149.7</td>\n",
       "      <td>149.7</td>\n",
       "      <td>52.0</td>\n",
       "      <td>South</td>\n",
       "      <td>10.0</td>\n",
       "      <td>Spring</td>\n",
       "      <td>Higher_Status</td>\n",
       "      <td>0</td>\n",
       "    </tr>\n",
       "    <tr>\n",
       "      <th>187358</th>\n",
       "      <td>79.9</td>\n",
       "      <td>79.9</td>\n",
       "      <td>63.0</td>\n",
       "      <td>Northeast</td>\n",
       "      <td>6.0</td>\n",
       "      <td>Spring</td>\n",
       "      <td>Lower_Status</td>\n",
       "      <td>0</td>\n",
       "    </tr>\n",
       "    <tr>\n",
       "      <th>174479</th>\n",
       "      <td>51.9</td>\n",
       "      <td>51.9</td>\n",
       "      <td>57.0</td>\n",
       "      <td>South</td>\n",
       "      <td>9.0</td>\n",
       "      <td>Spring</td>\n",
       "      <td>Lower_Status</td>\n",
       "      <td>0</td>\n",
       "    </tr>\n",
       "    <tr>\n",
       "      <th>277946</th>\n",
       "      <td>300.0</td>\n",
       "      <td>300.0</td>\n",
       "      <td>37.0</td>\n",
       "      <td>Midwest</td>\n",
       "      <td>16.0</td>\n",
       "      <td>Summer</td>\n",
       "      <td>Lower_Status</td>\n",
       "      <td>0</td>\n",
       "    </tr>\n",
       "    <tr>\n",
       "      <th>269824</th>\n",
       "      <td>539.0</td>\n",
       "      <td>539.0</td>\n",
       "      <td>60.0</td>\n",
       "      <td>Northeast</td>\n",
       "      <td>34.0</td>\n",
       "      <td>Summer</td>\n",
       "      <td>Lower_Status</td>\n",
       "      <td>0</td>\n",
       "    </tr>\n",
       "  </tbody>\n",
       "</table>\n",
       "</div>"
      ],
      "text/plain": [
       "        price  outcome   age     Region  duration  season         status  \\\n",
       "211297  149.7    149.7  52.0      South      10.0  Spring  Higher_Status   \n",
       "187358   79.9     79.9  63.0  Northeast       6.0  Spring   Lower_Status   \n",
       "174479   51.9     51.9  57.0      South       9.0  Spring   Lower_Status   \n",
       "277946  300.0    300.0  37.0    Midwest      16.0  Summer   Lower_Status   \n",
       "269824  539.0    539.0  60.0  Northeast      34.0  Summer   Lower_Status   \n",
       "\n",
       "        treatment  \n",
       "211297          0  \n",
       "187358          0  \n",
       "174479          0  \n",
       "277946          0  \n",
       "269824          0  "
      ]
     },
     "execution_count": 54,
     "metadata": {},
     "output_type": "execute_result"
    }
   ],
   "source": [
    "df_data.head()"
   ]
  },
  {
   "cell_type": "code",
   "execution_count": 55,
   "id": "e6c11c0e",
   "metadata": {},
   "outputs": [
    {
     "data": {
      "text/html": [
       "<div>\n",
       "<style scoped>\n",
       "    .dataframe tbody tr th:only-of-type {\n",
       "        vertical-align: middle;\n",
       "    }\n",
       "\n",
       "    .dataframe tbody tr th {\n",
       "        vertical-align: top;\n",
       "    }\n",
       "\n",
       "    .dataframe thead th {\n",
       "        text-align: right;\n",
       "    }\n",
       "</style>\n",
       "<table border=\"1\" class=\"dataframe\">\n",
       "  <thead>\n",
       "    <tr style=\"text-align: right;\">\n",
       "      <th></th>\n",
       "      <th>price</th>\n",
       "      <th>outcome</th>\n",
       "      <th>age</th>\n",
       "      <th>Region</th>\n",
       "      <th>duration</th>\n",
       "      <th>season</th>\n",
       "      <th>status</th>\n",
       "      <th>treatment</th>\n",
       "    </tr>\n",
       "  </thead>\n",
       "  <tbody>\n",
       "    <tr>\n",
       "      <th>213176</th>\n",
       "      <td>239.0</td>\n",
       "      <td>544.50</td>\n",
       "      <td>39.0</td>\n",
       "      <td>Midwest</td>\n",
       "      <td>26.0</td>\n",
       "      <td>Spring</td>\n",
       "      <td>Lower_Status</td>\n",
       "      <td>1</td>\n",
       "    </tr>\n",
       "    <tr>\n",
       "      <th>37837</th>\n",
       "      <td>79.0</td>\n",
       "      <td>0.00</td>\n",
       "      <td>45.0</td>\n",
       "      <td>South</td>\n",
       "      <td>6.0</td>\n",
       "      <td>Fall</td>\n",
       "      <td>Lower_Status</td>\n",
       "      <td>1</td>\n",
       "    </tr>\n",
       "    <tr>\n",
       "      <th>162173</th>\n",
       "      <td>99.9</td>\n",
       "      <td>159.84</td>\n",
       "      <td>69.0</td>\n",
       "      <td>Midwest</td>\n",
       "      <td>8.0</td>\n",
       "      <td>Winter</td>\n",
       "      <td>Lower_Status</td>\n",
       "      <td>1</td>\n",
       "    </tr>\n",
       "    <tr>\n",
       "      <th>159539</th>\n",
       "      <td>295.0</td>\n",
       "      <td>472.00</td>\n",
       "      <td>68.0</td>\n",
       "      <td>South</td>\n",
       "      <td>7.0</td>\n",
       "      <td>Spring</td>\n",
       "      <td>Higher_Status</td>\n",
       "      <td>1</td>\n",
       "    </tr>\n",
       "    <tr>\n",
       "      <th>84392</th>\n",
       "      <td>454.3</td>\n",
       "      <td>648.60</td>\n",
       "      <td>28.0</td>\n",
       "      <td>South</td>\n",
       "      <td>20.0</td>\n",
       "      <td>Winter</td>\n",
       "      <td>Lower_Status</td>\n",
       "      <td>1</td>\n",
       "    </tr>\n",
       "  </tbody>\n",
       "</table>\n",
       "</div>"
      ],
      "text/plain": [
       "        price  outcome   age   Region  duration  season         status  \\\n",
       "213176  239.0   544.50  39.0  Midwest      26.0  Spring   Lower_Status   \n",
       "37837    79.0     0.00  45.0    South       6.0    Fall   Lower_Status   \n",
       "162173   99.9   159.84  69.0  Midwest       8.0  Winter   Lower_Status   \n",
       "159539  295.0   472.00  68.0    South       7.0  Spring  Higher_Status   \n",
       "84392   454.3   648.60  28.0    South      20.0  Winter   Lower_Status   \n",
       "\n",
       "        treatment  \n",
       "213176          1  \n",
       "37837           1  \n",
       "162173          1  \n",
       "159539          1  \n",
       "84392           1  "
      ]
     },
     "execution_count": 55,
     "metadata": {},
     "output_type": "execute_result"
    }
   ],
   "source": [
    "df_data.tail()"
   ]
  },
  {
   "cell_type": "code",
   "execution_count": 56,
   "id": "8cc567df",
   "metadata": {},
   "outputs": [
    {
     "name": "stdout",
     "output_type": "stream",
     "text": [
      "<class 'pandas.core.frame.DataFrame'>\n",
      "Int64Index: 1200 entries, 211297 to 84392\n",
      "Data columns (total 8 columns):\n",
      " #   Column     Non-Null Count  Dtype  \n",
      "---  ------     --------------  -----  \n",
      " 0   price      1200 non-null   float64\n",
      " 1   outcome    1200 non-null   float64\n",
      " 2   age        1200 non-null   float64\n",
      " 3   Region     1200 non-null   object \n",
      " 4   duration   1200 non-null   float64\n",
      " 5   season     1200 non-null   object \n",
      " 6   status     1200 non-null   object \n",
      " 7   treatment  1200 non-null   int64  \n",
      "dtypes: float64(4), int64(1), object(3)\n",
      "memory usage: 84.4+ KB\n"
     ]
    }
   ],
   "source": [
    "df_data.info()"
   ]
  },
  {
   "cell_type": "markdown",
   "id": "1290c97b",
   "metadata": {},
   "source": [
    "### Initial analysis"
   ]
  },
  {
   "cell_type": "code",
   "execution_count": 57,
   "id": "6c6e992f",
   "metadata": {},
   "outputs": [
    {
     "data": {
      "image/png": "[encoded data removed]",
      "text/plain": [
       "<Figure size 432x288 with 1 Axes>"
      ]
     },
     "metadata": {
      "needs_background": "light"
     },
     "output_type": "display_data"
    },
    {
     "name": "stdout",
     "output_type": "stream",
     "text": [
      "Difference between Control and Treatment 13.90749\n"
     ]
    }
   ],
   "source": [
    "sns.set_style(\"whitegrid\")\n",
    "sns.barplot(x = ['Control', 'Treatment'], y = df_data.groupby('treatment')['outcome'].mean().values)\n",
    "plt.show()\n",
    "print(f'Difference between Control and Treatment {np.round(df_data.groupby(\"treatment\")[\"outcome\"].mean()[1] - df_data.groupby(\"treatment\")[\"outcome\"].mean()[0], 5)}')"
   ]
  },
  {
   "cell_type": "markdown",
   "id": "42fbe79c",
   "metadata": {},
   "source": [
    "It appears that discount leads to a mean increase of $14"
   ]
  },
  {
   "cell_type": "markdown",
   "id": "b6fa705a",
   "metadata": {},
   "source": [
    "### Create variables for causallib"
   ]
  },
  {
   "cell_type": "code",
   "execution_count": 58,
   "id": "6a58a2b3",
   "metadata": {},
   "outputs": [],
   "source": [
    "X = df_data.drop(['treatment','outcome'],axis=1)\n",
    "X = pd.get_dummies(X,drop_first=True,prefix_sep=('*'))"
   ]
  },
  {
   "cell_type": "code",
   "execution_count": 59,
   "id": "15aa9f4a",
   "metadata": {},
   "outputs": [],
   "source": [
    "a = df_data['treatment']\n",
    "y = df_data['outcome']"
   ]
  },
  {
   "cell_type": "code",
   "execution_count": 60,
   "id": "0a3b4b95",
   "metadata": {},
   "outputs": [],
   "source": [
    "from sklearn.linear_model import LogisticRegression, LinearRegression\n",
    "from matplotlib import pyplot as plt\n",
    "from causallib.estimation import (\n",
    "    PropensityFeatureStandardization,\n",
    "    WeightedStandardization,\n",
    "    AIPW,\n",
    "    IPW,\n",
    "    MarginalOutcomeEstimator,\n",
    "    Standardization,\n",
    "    StratifiedStandardization,\n",
    "    Matching,\n",
    "    PropensityMatching,\n",
    ")\n",
    "from causallib.preprocessing.transformers import MatchingTransformer\n",
    "\n",
    "\n",
    "def learner(): return LogisticRegression(\n",
    "    solver=\"liblinear\", class_weight=\"balanced\", max_iter=5000)\n",
    "\n",
    "\n",
    "def makeipw(): return IPW(learner=learner())\n",
    "def makestd(): return StratifiedStandardization(learner=LinearRegression())\n",
    "\n",
    "\n",
    "all_estimators = [\n",
    "    MarginalOutcomeEstimator(learner=LinearRegression()),\n",
    "    Matching(with_replacement=False),\n",
    "    PropensityMatching(learner=learner(), caliper=0.1),\n",
    "    IPW(learner=learner()),\n",
    "    Standardization(learner=LinearRegression()),\n",
    "    StratifiedStandardization(learner=LinearRegression()),\n",
    "    PropensityFeatureStandardization(makestd(), makeipw()),\n",
    "    WeightedStandardization(makestd(), makeipw()),\n",
    "    AIPW(makestd(), makeipw()),\n",
    "]\n",
    "\n",
    "\n",
    "def get_all_estimates(X, a, y):\n",
    "    estimates = {}\n",
    "    for estimator in all_estimators:\n",
    "        estimator.fit(X, a, y)\n",
    "        estimator_name = estimator.__class__.__name__\n",
    "        estimates[estimator_name] = estimator.estimate_population_outcome(\n",
    "            X, a, y)\n",
    "    estimates_df = pd.concat(estimates, axis=1).T\n",
    "    return estimates_df"
   ]
  },
  {
   "cell_type": "code",
   "execution_count": 61,
   "id": "322f6994",
   "metadata": {},
   "outputs": [
    {
     "data": {
      "text/html": [
       "<div>\n",
       "<style scoped>\n",
       "    .dataframe tbody tr th:only-of-type {\n",
       "        vertical-align: middle;\n",
       "    }\n",
       "\n",
       "    .dataframe tbody tr th {\n",
       "        vertical-align: top;\n",
       "    }\n",
       "\n",
       "    .dataframe thead th {\n",
       "        text-align: right;\n",
       "    }\n",
       "</style>\n",
       "<table border=\"1\" class=\"dataframe\">\n",
       "  <thead>\n",
       "    <tr style=\"text-align: right;\">\n",
       "      <th></th>\n",
       "      <th>0</th>\n",
       "      <th>1</th>\n",
       "      <th>ATE</th>\n",
       "    </tr>\n",
       "  </thead>\n",
       "  <tbody>\n",
       "    <tr>\n",
       "      <th>MarginalOutcomeEstimator</th>\n",
       "      <td>232.967375</td>\n",
       "      <td>246.874861</td>\n",
       "      <td>13.907486</td>\n",
       "    </tr>\n",
       "    <tr>\n",
       "      <th>Matching</th>\n",
       "      <td>232.967375</td>\n",
       "      <td>246.874861</td>\n",
       "      <td>13.907486</td>\n",
       "    </tr>\n",
       "    <tr>\n",
       "      <th>PropensityMatching</th>\n",
       "      <td>239.379996</td>\n",
       "      <td>245.190906</td>\n",
       "      <td>5.810910</td>\n",
       "    </tr>\n",
       "    <tr>\n",
       "      <th>IPW</th>\n",
       "      <td>486.721564</td>\n",
       "      <td>238.228390</td>\n",
       "      <td>-248.493173</td>\n",
       "    </tr>\n",
       "    <tr>\n",
       "      <th>Standardization</th>\n",
       "      <td>244.155625</td>\n",
       "      <td>235.686610</td>\n",
       "      <td>-8.469015</td>\n",
       "    </tr>\n",
       "    <tr>\n",
       "      <th>StratifiedStandardization</th>\n",
       "      <td>242.957624</td>\n",
       "      <td>233.355192</td>\n",
       "      <td>-9.602433</td>\n",
       "    </tr>\n",
       "    <tr>\n",
       "      <th>PropensityFeatureStandardization</th>\n",
       "      <td>243.213546</td>\n",
       "      <td>232.222708</td>\n",
       "      <td>-10.990838</td>\n",
       "    </tr>\n",
       "    <tr>\n",
       "      <th>WeightedStandardization</th>\n",
       "      <td>242.769819</td>\n",
       "      <td>231.295794</td>\n",
       "      <td>-11.474025</td>\n",
       "    </tr>\n",
       "    <tr>\n",
       "      <th>AIPW</th>\n",
       "      <td>241.567334</td>\n",
       "      <td>231.766733</td>\n",
       "      <td>-9.800601</td>\n",
       "    </tr>\n",
       "  </tbody>\n",
       "</table>\n",
       "</div>"
      ],
      "text/plain": [
       "                                           0           1         ATE\n",
       "MarginalOutcomeEstimator          232.967375  246.874861   13.907486\n",
       "Matching                          232.967375  246.874861   13.907486\n",
       "PropensityMatching                239.379996  245.190906    5.810910\n",
       "IPW                               486.721564  238.228390 -248.493173\n",
       "Standardization                   244.155625  235.686610   -8.469015\n",
       "StratifiedStandardization         242.957624  233.355192   -9.602433\n",
       "PropensityFeatureStandardization  243.213546  232.222708  -10.990838\n",
       "WeightedStandardization           242.769819  231.295794  -11.474025\n",
       "AIPW                              241.567334  231.766733   -9.800601"
      ]
     },
     "execution_count": 61,
     "metadata": {},
     "output_type": "execute_result"
    }
   ],
   "source": [
    "all_estimates = get_all_estimates(X, a, y)\n",
    "all_estimates.assign(ATE=all_estimates[1] - all_estimates[0])"
   ]
  },
  {
   "cell_type": "code",
   "execution_count": 62,
   "id": "3751c943",
   "metadata": {},
   "outputs": [],
   "source": [
    "from causallib.preprocessing.transformers import PropensityTransformer\n",
    "propensity_transform = PropensityTransformer(learner=learner(), include_covariates=True)"
   ]
  },
  {
   "cell_type": "code",
   "execution_count": 63,
   "id": "0d2ce619",
   "metadata": {},
   "outputs": [
    {
     "name": "stdout",
     "output_type": "stream",
     "text": [
      "Transforming data from 1200 samples to 1200 samples by matching without replacement.\n"
     ]
    }
   ],
   "source": [
    "mt = MatchingTransformer(with_replacement=False, propensity_transform=propensity_transform)\n",
    "Xm, am, ym = mt.fit_transform(X, a, y)\n",
    "print(f\"Transforming data from {X.shape[0]} samples to {Xm.shape[0]} samples by matching without replacement.\")"
   ]
  },
  {
   "cell_type": "code",
   "execution_count": 64,
   "id": "6768c490",
   "metadata": {},
   "outputs": [
    {
     "data": {
      "text/html": [
       "<div>\n",
       "<style scoped>\n",
       "    .dataframe tbody tr th:only-of-type {\n",
       "        vertical-align: middle;\n",
       "    }\n",
       "\n",
       "    .dataframe tbody tr th {\n",
       "        vertical-align: top;\n",
       "    }\n",
       "\n",
       "    .dataframe thead th {\n",
       "        text-align: right;\n",
       "    }\n",
       "</style>\n",
       "<table border=\"1\" class=\"dataframe\">\n",
       "  <thead>\n",
       "    <tr style=\"text-align: right;\">\n",
       "      <th></th>\n",
       "      <th>0</th>\n",
       "      <th>1</th>\n",
       "      <th>ATE</th>\n",
       "    </tr>\n",
       "  </thead>\n",
       "  <tbody>\n",
       "    <tr>\n",
       "      <th>MarginalOutcomeEstimator</th>\n",
       "      <td>232.967375</td>\n",
       "      <td>246.874861</td>\n",
       "      <td>13.907486</td>\n",
       "    </tr>\n",
       "    <tr>\n",
       "      <th>Matching</th>\n",
       "      <td>232.967375</td>\n",
       "      <td>246.874861</td>\n",
       "      <td>13.907486</td>\n",
       "    </tr>\n",
       "    <tr>\n",
       "      <th>PropensityMatching</th>\n",
       "      <td>239.379996</td>\n",
       "      <td>245.190906</td>\n",
       "      <td>5.810910</td>\n",
       "    </tr>\n",
       "    <tr>\n",
       "      <th>IPW</th>\n",
       "      <td>486.721564</td>\n",
       "      <td>238.228390</td>\n",
       "      <td>-248.493173</td>\n",
       "    </tr>\n",
       "    <tr>\n",
       "      <th>Standardization</th>\n",
       "      <td>244.155625</td>\n",
       "      <td>235.686610</td>\n",
       "      <td>-8.469015</td>\n",
       "    </tr>\n",
       "    <tr>\n",
       "      <th>StratifiedStandardization</th>\n",
       "      <td>242.957624</td>\n",
       "      <td>233.355192</td>\n",
       "      <td>-9.602433</td>\n",
       "    </tr>\n",
       "    <tr>\n",
       "      <th>PropensityFeatureStandardization</th>\n",
       "      <td>243.213546</td>\n",
       "      <td>232.222708</td>\n",
       "      <td>-10.990838</td>\n",
       "    </tr>\n",
       "    <tr>\n",
       "      <th>WeightedStandardization</th>\n",
       "      <td>242.769819</td>\n",
       "      <td>231.295794</td>\n",
       "      <td>-11.474025</td>\n",
       "    </tr>\n",
       "    <tr>\n",
       "      <th>AIPW</th>\n",
       "      <td>241.567334</td>\n",
       "      <td>231.766733</td>\n",
       "      <td>-9.800601</td>\n",
       "    </tr>\n",
       "  </tbody>\n",
       "</table>\n",
       "</div>"
      ],
      "text/plain": [
       "                                           0           1         ATE\n",
       "MarginalOutcomeEstimator          232.967375  246.874861   13.907486\n",
       "Matching                          232.967375  246.874861   13.907486\n",
       "PropensityMatching                239.379996  245.190906    5.810910\n",
       "IPW                               486.721564  238.228390 -248.493173\n",
       "Standardization                   244.155625  235.686610   -8.469015\n",
       "StratifiedStandardization         242.957624  233.355192   -9.602433\n",
       "PropensityFeatureStandardization  243.213546  232.222708  -10.990838\n",
       "WeightedStandardization           242.769819  231.295794  -11.474025\n",
       "AIPW                              241.567334  231.766733   -9.800601"
      ]
     },
     "execution_count": 64,
     "metadata": {},
     "output_type": "execute_result"
    }
   ],
   "source": [
    "all_estimates_matched = get_all_estimates(Xm, am, ym)\n",
    "all_estimates_matched.assign(ATE=all_estimates_matched[1] - all_estimates_matched[0])"
   ]
  },
  {
   "cell_type": "markdown",
   "id": "aaafbbac",
   "metadata": {},
   "source": [
    "### Conclusion\n",
    "\n",
    "All the matching methods report a positive impact of discounts on sales revenue while the other methods report negative impact.  Looking at the weighting and standardization approaches, they all have similar results except for IPW with very high ATE of -248.  This is understandable in that IPW is sensitive to treatment specification error, however, the AIPW (Doubly Robust) method provide a better and realistic estimate.\n",
    "\n",
    "In this experiment, it can be established that sales discount does not have the desired effect on sales.  However, we shall pursue this further by looking at the effect of different level of discounts on sales."
   ]
  },
  {
   "cell_type": "code",
   "execution_count": null,
   "id": "1a6387bd",
   "metadata": {},
   "outputs": [],
   "source": []
  }
 ],
 "metadata": {
  "kernelspec": {
   "display_name": "Python 3 (ipykernel)",
   "language": "python",
   "name": "python3"
  },
  "language_info": {
   "codemirror_mode": {
    "name": "ipython",
    "version": 3
   },
   "file_extension": ".py",
   "mimetype": "text/x-python",
   "name": "python",
   "nbconvert_exporter": "python",
   "pygments_lexer": "ipython3",
   "version": "3.9.7"
  }
 },
 "nbformat": 4,
 "nbformat_minor": 5
}
